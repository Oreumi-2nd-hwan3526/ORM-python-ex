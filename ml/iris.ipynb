{
 "cells": [
  {
   "cell_type": "code",
   "execution_count": null,
   "metadata": {},
   "outputs": [],
   "source": [
    "from sklearn.datasets import load_iris\n",
    "import pandas as pd\n",
    "import mglearn\n",
    "\n",
    "iris_dataset=load_iris()\n",
    "print(iris_dataset.keys())\n",
    "print(iris_dataset['DESCR'][:193])\n",
    "print(iris_dataset['target_names'])\n",
    "print(iris_dataset['feature_names'])"
   ]
  },
  {
   "cell_type": "code",
   "execution_count": null,
   "metadata": {},
   "outputs": [],
   "source": [
    "from sklearn.datasets import load_iris\n",
    "import pandas as pd\n",
    "import mglearn\n",
    "\n",
    "iris_dataset=load_iris()\n",
    "\n",
    "from sklearn.model_selection import train_test_split\n",
    "X_train,X_test,y_train,y_test=train_test_split(\n",
    "    iris_dataset['data'],iris_dataset['target'],random_state=0)\n",
    "\n",
    "iris_dataframe=pd.DataFrame(X_train,columns=iris_dataset.feature_names)\n",
    "pd.plotting.scatter_matrix(iris_dataframe,c=y_train,figsize=(15,15),marker='o',\n",
    "                           hist_kwds={'bins':20},s=60,alpha=.8,cmap=mglearn.cm3)"
   ]
  }
 ],
 "metadata": {
  "kernelspec": {
   "display_name": "py_ml",
   "language": "python",
   "name": "python3"
  },
  "language_info": {
   "codemirror_mode": {
    "name": "ipython",
    "version": 3
   },
   "file_extension": ".py",
   "mimetype": "text/x-python",
   "name": "python",
   "nbconvert_exporter": "python",
   "pygments_lexer": "ipython3",
   "version": "3.11.0"
  },
  "orig_nbformat": 4
 },
 "nbformat": 4,
 "nbformat_minor": 2
}
